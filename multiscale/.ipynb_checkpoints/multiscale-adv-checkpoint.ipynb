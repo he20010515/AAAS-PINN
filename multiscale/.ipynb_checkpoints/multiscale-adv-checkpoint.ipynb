{
 "cells": [
  {
   "cell_type": "markdown",
   "id": "3b0f7e2d",
   "metadata": {},
   "source": [
    "# Import Libraries"
   ]
  },
  {
   "cell_type": "code",
   "execution_count": 1,
   "id": "328cb816",
   "metadata": {},
   "outputs": [
    {
     "name": "stdout",
     "output_type": "stream",
     "text": [
      "device: cpu\n",
      "test dataset: (256, 1) \n",
      "\n",
      "sequential_model(\n",
      "  (activation): Tanh()\n",
      "  (loss_function): MSELoss()\n",
      "  (linears): ModuleList(\n",
      "    (0): Linear(in_features=1, out_features=20, bias=True)\n",
      "    (1): Linear(in_features=20, out_features=20, bias=True)\n",
      "    (2): Linear(in_features=20, out_features=20, bias=True)\n",
      "    (3): Linear(in_features=20, out_features=20, bias=True)\n",
      "    (4): Linear(in_features=20, out_features=20, bias=True)\n",
      "    (5): Linear(in_features=20, out_features=20, bias=True)\n",
      "    (6): Linear(in_features=20, out_features=20, bias=True)\n",
      "    (7): Linear(in_features=20, out_features=20, bias=True)\n",
      "    (8): Linear(in_features=20, out_features=1, bias=True)\n",
      "  )\n",
      ")\n"
     ]
    }
   ],
   "source": [
    "import numpy as np\n",
    "import torch\n",
    "\n",
    "from visualization import *\n",
    "from main import *\n",
    "from used_attacks import regression_PGD\n",
    "\n",
    "''' Settings and seeds '''\n",
    "\n",
    "#Set default dtype to float32\n",
    "torch.set_default_dtype(torch.float)\n",
    "\n",
    "#PyTorch random number generator\n",
    "torch.manual_seed(1234)\n",
    "\n",
    "# Random number generators in other libraries\n",
    "np.random.seed(1234)\n",
    "\n",
    "# Device configuration\n",
    "device = torch.device('cuda' if torch.cuda.is_available() else 'cpu')\n",
    "\n",
    "print(\"device:\", device)\n",
    "\n",
    "if device == 'cuda': \n",
    "    print(torch.cuda.get_device_name()) \n",
    "    \n",
    "''' test dataset '''\n",
    "\n",
    "x = np.linspace(0, np.pi, 256)\n",
    "\n",
    "x_test = x.reshape(x.shape[0],1)\n",
    "print(\"test dataset:\", x_test.shape, '\\n')\n",
    "\n",
    "''' model '''\n",
    "\n",
    "layers = np.array([1,20,20,20,20,20,20,20,20,1]) #8 hidden layers\n",
    "PINN = sequential_model(layers, device)\n",
    "PINN.to(device)\n",
    "print(PINN)"
   ]
  },
  {
   "cell_type": "code",
   "execution_count": 2,
   "id": "34a64842",
   "metadata": {},
   "outputs": [],
   "source": [
    "def generate_attack_samples(model, device, x_train, N0, n_samples=200, \\\n",
    "    lb=[0], ub=[np.pi], steps=2, eps=2e-1, eta=2e-2, m=0):\n",
    "    \n",
    "    attack = regression_PGD(model, lb=lb, ub=ub, steps=steps, eps=eps, eta=eta)\n",
    "    x_adv = attack.attack(x_train).cpu().detach().numpy()\n",
    "    \n",
    "    if x_adv.shape[0] > N0 + (m+1)*n_samples:\n",
    "        x_adv = np.vstack([x_adv[:N0,:] ,x_adv[-(m+1)*n_samples:,:]])\n",
    "\n",
    "    f_adv_pred = np.abs(model.function(x_adv).squeeze().cpu().detach().numpy())\n",
    "    index = np.argsort(f_adv_pred)[::-1][:n_samples]\n",
    "    x_adv = x_adv[index,:]\n",
    "    f_adv_pred = f_adv_pred[index]\n",
    "    \n",
    "    plot_samples(x_adv, f_adv_pred)\n",
    "    \n",
    "    return x_adv\n",
    "\n",
    "\n",
    "def retrain(model, x_train, x_adv, x_boundary, u_boundary, x_test, epoch=1e5):\n",
    "    \n",
    "    x_train_temp = np.vstack([x_train, x_adv])\n",
    "    \n",
    "    f_test_pred = np.abs(model.function(x_test).squeeze().cpu().detach().numpy())\n",
    "    plot_u(x_test, f_test_pred, title=\"test $r(x;theta)$\", ylim=[-1,3])\n",
    "    print('Test residual MSE: %.5f'  % (np.mean(np.square(f_test_pred))))\n",
    "\n",
    "    model.iter = 0\n",
    "    optimizer = torch.optim.Adam(model.parameters(), lr=0.0001)\n",
    "    model.train_model_adam(optimizer, x_boundary, u_boundary, x_train_temp, epoch)\n",
    "    \n",
    "    u_pred = model(x_test).squeeze().cpu().detach().numpy()\n",
    "    \n",
    "    plot_u(x_test, u_pred)"
   ]
  },
  {
   "cell_type": "code",
   "execution_count": null,
   "id": "f16d198a",
   "metadata": {},
   "outputs": [
    {
     "data": {
      "image/png": "[encoded data removed]",
      "text/plain": [
       "<Figure size 300x300 with 1 Axes>"
      ]
     },
     "metadata": {},
     "output_type": "display_data"
    },
    {
     "name": "stdout",
     "output_type": "stream",
     "text": [
      "Test residual MSE: 0.79493\n",
      "1000 tensor(0.4639, grad_fn=<AddBackward0>)\n",
      "2000 tensor(0.4636, grad_fn=<AddBackward0>)\n",
      "3000 tensor(0.4636, grad_fn=<AddBackward0>)\n",
      "4000 tensor(0.4636, grad_fn=<AddBackward0>)\n",
      "5000 tensor(0.4636, grad_fn=<AddBackward0>)\n",
      "6000 tensor(0.4636, grad_fn=<AddBackward0>)\n",
      "7000 tensor(0.4636, grad_fn=<AddBackward0>)\n",
      "8000 tensor(0.4636, grad_fn=<AddBackward0>)\n",
      "9000 tensor(0.4636, grad_fn=<AddBackward0>)\n",
      "10000 tensor(0.4636, grad_fn=<AddBackward0>)\n",
      "11000 tensor(0.4636, grad_fn=<AddBackward0>)\n"
     ]
    }
   ],
   "source": [
    "''' k=0 '''\n",
    "N0 = 200\n",
    "x_train, x_boundary, u_boundary = training_data_latin_hypercube(x, N_inner=N0)\n",
    "retrain(PINN, x_train, np.array([]).reshape((0,1)), x_boundary, u_boundary, x_test, epoch=1e4)"
   ]
  },
  {
   "cell_type": "code",
   "execution_count": null,
   "id": "6ad8ec19",
   "metadata": {
    "scrolled": false
   },
   "outputs": [],
   "source": [
    "x_adv = np.array([]).reshape((0,1))\n",
    "''' k=1:30 '''\n",
    "for i in range(30):\n",
    "    print(\"k=\", i)\n",
    "    x_train = np.vstack([x_train, x_adv])\n",
    "    x_adv = generate_attack_samples(PINN, device, x_train, N0)\n",
    "    retrain(PINN, x_train, x_adv, x_boundary, u_boundary, x_test, epoch=1e4)"
   ]
  },
  {
   "cell_type": "code",
   "execution_count": null,
   "id": "c6a50c83",
   "metadata": {},
   "outputs": [],
   "source": [
    "for i in range(30):\n",
    "    print(\"k=\", i)\n",
    "    x_train = np.vstack([x_train, x_adv])\n",
    "    x_adv = generate_attack_samples(PINN, device, x_train, N0)\n",
    "    retrain(PINN, x_train, x_adv, x_boundary, u_boundary, x_test, epoch=2e4)"
   ]
  },
  {
   "cell_type": "code",
   "execution_count": null,
   "id": "74d707fb",
   "metadata": {
    "scrolled": false
   },
   "outputs": [],
   "source": [
    "x_adv = generate_attack_samples(PINN, device, x_train, n_samples=200)"
   ]
  },
  {
   "cell_type": "code",
   "execution_count": null,
   "id": "add75456",
   "metadata": {},
   "outputs": [],
   "source": [
    "retrain(PINN, x_train, x_adv, x_boundary, u_boundary, x_test, u_test, U_gt)"
   ]
  },
  {
   "cell_type": "code",
   "execution_count": null,
   "id": "4c960013",
   "metadata": {},
   "outputs": [],
   "source": [
    "for i in range(35):\n",
    "    x_train = np.vstack([x_train, x_adv])\n",
    "    x_adv = generate_attack_samples(PINN, device, x_train)\n",
    "    print(x_train.shape)\n",
    "    retrain(PINN, x_train, x_adv, x_boundary, u_boundary, x_test, u_test, U_gt)\n",
    "    plt.show()"
   ]
  },
  {
   "cell_type": "code",
   "execution_count": null,
   "id": "95e7aec0",
   "metadata": {},
   "outputs": [],
   "source": [
    "for i in range(10):\n",
    "    x_train = np.vstack([x_train, x_adv])\n",
    "    x_adv = generate_attack_samples(PINN, device, x_train)\n",
    "    print(x_train.shape)\n",
    "    retrain(PINN, x_train, x_adv, x_boundary, u_boundary, x_test, u_test, U_gt)"
   ]
  },
  {
   "cell_type": "code",
   "execution_count": null,
   "id": "e8ee9584",
   "metadata": {},
   "outputs": [],
   "source": [
    "for i in range(10):\n",
    "    x_train = np.vstack([x_train, x_adv])\n",
    "    x_adv = generate_attack_samples(PINN, device, x_train)\n",
    "    print(x_train.shape)\n",
    "    retrain(PINN, x_train, x_adv, x_boundary, u_boundary, x_test, u_test, U_gt)"
   ]
  },
  {
   "cell_type": "code",
   "execution_count": null,
   "id": "532d6215",
   "metadata": {},
   "outputs": [],
   "source": []
  }
 ],
 "metadata": {
  "kernelspec": {
   "display_name": "Python 3 (ipykernel)",
   "language": "python",
   "name": "python3"
  },
  "language_info": {
   "codemirror_mode": {
    "name": "ipython",
    "version": 3
   },
   "file_extension": ".py",
   "mimetype": "text/x-python",
   "name": "python",
   "nbconvert_exporter": "python",
   "pygments_lexer": "ipython3",
   "version": "3.8.10"
  }
 },
 "nbformat": 4,
 "nbformat_minor": 5
}
